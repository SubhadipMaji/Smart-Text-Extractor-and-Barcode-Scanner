{
 "cells": [
  {
   "cell_type": "code",
   "execution_count": 2,
   "metadata": {},
   "outputs": [],
   "source": [
    "import cv2\n",
    "import predictions as pred\n"
   ]
  },
  {
   "cell_type": "code",
   "execution_count": 3,
   "metadata": {},
   "outputs": [],
   "source": [
    "# img = cv2.imread('./Data/242.jpeg')\n",
    "img = cv2.imread('./Data/54.jpg')\n",
    "\n",
    "\n",
    "cv2.namedWindow('Oringinal_Image', cv2.WINDOW_NORMAL)\n",
    "cv2.imshow('Oringinal_Image', img)\n",
    "cv2.waitKey(0)\n",
    "cv2.destroyAllWindows()"
   ]
  },
  {
   "cell_type": "code",
   "execution_count": 4,
   "metadata": {},
   "outputs": [
    {
     "name": "stdout",
     "output_type": "stream",
     "text": [
      "stanford stanford medicine cardiovascular institute joseph c. wu, md, phd director, stanford cardiovascular institute professor medicine cardiology radiology 265 campus drive, g-1120b ek 650 736-2246 stanford, ca 94305, mc-5454 http//wulab.stanford.edu joewu@stanford.edu hetp//evistanford.edu\n",
      "{'NAME': ['Joseph C Wu'], 'ORG': ['Stanford', 'Stanford Medicine Cardiovascular Institute'], 'DES': ['Director'], 'PHONE': ['650736'], 'EMAIL': ['httpwulab.stanford.edu', 'joewu@stanford.edu'], 'WEB': ['hetp//evistanford.edu']}\n"
     ]
    }
   ],
   "source": [
    "img_results, entities = pred.get_predictions(img)\n",
    "\n",
    "print(entities)\n",
    "cv2.namedWindow('Predicted_Image', cv2.WINDOW_NORMAL)\n",
    "cv2.imshow('Predicted_Image', img_results)\n",
    "cv2.waitKey(0)\n",
    "cv2.destroyAllWindows()"
   ]
  },
  {
   "cell_type": "code",
   "execution_count": 5,
   "metadata": {},
   "outputs": [
    {
     "data": {
      "text/plain": [
       "{'NAME': ['Joseph C Wu'],\n",
       " 'ORG': ['Stanford', 'Stanford Medicine Cardiovascular Institute'],\n",
       " 'DES': ['Director'],\n",
       " 'PHONE': ['650736'],\n",
       " 'EMAIL': ['httpwulab.stanford.edu', 'joewu@stanford.edu'],\n",
       " 'WEB': ['hetp//evistanford.edu']}"
      ]
     },
     "execution_count": 5,
     "metadata": {},
     "output_type": "execute_result"
    }
   ],
   "source": [
    "entities"
   ]
  },
  {
   "cell_type": "code",
   "execution_count": null,
   "metadata": {},
   "outputs": [],
   "source": []
  }
 ],
 "metadata": {
  "kernelspec": {
   "display_name": "req",
   "language": "python",
   "name": "python3"
  },
  "language_info": {
   "codemirror_mode": {
    "name": "ipython",
    "version": 3
   },
   "file_extension": ".py",
   "mimetype": "text/x-python",
   "name": "python",
   "nbconvert_exporter": "python",
   "pygments_lexer": "ipython3",
   "version": "3.9.2"
  }
 },
 "nbformat": 4,
 "nbformat_minor": 2
}
